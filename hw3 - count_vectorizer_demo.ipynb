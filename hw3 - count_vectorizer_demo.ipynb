{
 "cells": [
  {
   "cell_type": "code",
   "execution_count": 1,
   "metadata": {},
   "outputs": [],
   "source": [
    "%load_ext autoreload\n",
    "%autoreload 2\n",
    "\n",
    "working_dir = r'C:/aaa/Semester 1/Python/Week 6/'\n",
    "!cd {working_dir}"
   ]
  },
  {
   "cell_type": "code",
   "execution_count": 2,
   "metadata": {},
   "outputs": [],
   "source": [
    "from text_vectorizer.tokenizers import BaseTokenizer, Tokenizer\n",
    "from text_vectorizer.vectorizers import CountVectorizer\n",
    "import string"
   ]
  },
  {
   "cell_type": "code",
   "execution_count": 3,
   "metadata": {},
   "outputs": [
    {
     "name": "stdout",
     "output_type": "stream",
     "text": [
      "\n",
      "max_features = 2, ordering = counts\n",
      "\n",
      "['pasta', 'crock']\n",
      "[[2, 1], [1, 0]]\n",
      "\n",
      "max_features = 2, ordering = encounter\n",
      "\n",
      "['crock', 'pasta']\n",
      "[[1, 2], [0, 1]]\n",
      "\n",
      "max_features = 2, ordering = alphabetical\n",
      "\n",
      "['crock', 'pasta']\n",
      "[[1, 2], [0, 1]]\n",
      "\n",
      "max_features = 8, ordering = counts\n",
      "\n",
      "['pasta', 'crock', 'pot', 'never', 'boil', 'again', 'pomodoro', 'fresh']\n",
      "[[2, 1, 1, 1, 1, 1, 0, 0], [1, 0, 0, 0, 0, 0, 1, 1]]\n",
      "\n",
      "max_features = 8, ordering = encounter\n",
      "\n",
      "['crock', 'pot', 'pasta', 'never', 'boil', 'again', 'pomodoro', 'fresh']\n",
      "[[1, 1, 2, 1, 1, 1, 0, 0], [0, 0, 1, 0, 0, 0, 1, 1]]\n",
      "\n",
      "max_features = 8, ordering = alphabetical\n",
      "\n",
      "['again', 'boil', 'crock', 'fresh', 'never', 'pasta', 'pomodoro', 'pot']\n",
      "[[1, 1, 1, 0, 1, 2, 0, 1], [0, 0, 0, 1, 0, 1, 1, 0]]\n",
      "\n",
      "max_features = 20, ordering = counts\n",
      "\n",
      "['pasta', 'crock', 'pot', 'never', 'boil', 'again', 'pomodoro', 'fresh', 'ingredients', 'parmesan', 'to', 'taste']\n",
      "[[2, 1, 1, 1, 1, 1, 0, 0, 0, 0, 0, 0], [1, 0, 0, 0, 0, 0, 1, 1, 1, 1, 1, 1]]\n",
      "\n",
      "max_features = 20, ordering = encounter\n",
      "\n",
      "['crock', 'pot', 'pasta', 'never', 'boil', 'again', 'pomodoro', 'fresh', 'ingredients', 'parmesan', 'to', 'taste']\n",
      "[[1, 1, 2, 1, 1, 1, 0, 0, 0, 0, 0, 0], [0, 0, 1, 0, 0, 0, 1, 1, 1, 1, 1, 1]]\n",
      "\n",
      "max_features = 20, ordering = alphabetical\n",
      "\n",
      "['again', 'boil', 'crock', 'fresh', 'ingredients', 'never', 'parmesan', 'pasta', 'pomodoro', 'pot', 'taste', 'to']\n",
      "[[1, 1, 1, 0, 0, 1, 0, 2, 0, 1, 0, 0], [0, 0, 0, 1, 1, 0, 1, 1, 1, 0, 1, 1]]\n"
     ]
    }
   ],
   "source": [
    "import itertools\n",
    "\n",
    "tokenizer = Tokenizer(' ')\n",
    "\n",
    "corpus = [\n",
    " 'Crock Pot Pasta Never boil pasta again',\n",
    " 'Pasta Pomodoro Fresh ingredients Parmesan to taste'\n",
    "]\n",
    "\n",
    "for max_features, ordering in itertools.product([2, 8, 20], ['counts', 'encounter', 'alphabetical']):\n",
    "    print(f'\\nmax_features = {max_features}, ordering = {ordering}\\n')\n",
    "\n",
    "    vectorizer = CountVectorizer(tokenizer = tokenizer, max_features = max_features)\n",
    "    count_matrix = vectorizer.fit_transform(corpus, ordering = ordering)\n",
    "    print(vectorizer.get_feature_names())\n",
    "    print(count_matrix)"
   ]
  },
  {
   "cell_type": "raw",
   "metadata": {},
   "source": [
    "Out: ['crock', 'pot', 'pasta', 'never', 'boil', 'again', 'pomodoro', 'fresh', 'ingredients', 'parmesan', 'to', 'taste']\n",
    "    \n",
    "Out: [[1, 1, 2, 1, 1, 1, 0, 0, 0, 0, 0, 0], [0, 0, 1, 0, 0, 0, 1, 1, 1, 1, 1, 1]]"
   ]
  },
  {
   "cell_type": "code",
   "execution_count": null,
   "metadata": {},
   "outputs": [],
   "source": []
  },
  {
   "cell_type": "code",
   "execution_count": 4,
   "metadata": {},
   "outputs": [],
   "source": [
    "text = 'https://meduza.io/paragraph/2020/10/26/skolko-oni-zarabatyvayut-i-chto-za-dannye-analiziruyut\\n'\\\n",
    "'Сколько они зарабатывают и что за данные анализируют? Кратко объясняем, зачем учиться на аналитика данных.\\n'\\\n",
    "'10:38, 26 октября 2020\\n'\\\n",
    "'Чтобы научиться собирать, обрабатывать и интерпретировать информацию. Эти навыки пригодятся в любой сфере — неважно, работаете ли вы в сервисе для заказа еды или крупном банке. Для этого нужно освоить базовый набор аналитика: SQL, математическую статистику, основы Python.\\n'\\\n",
    "'Чтобы принимать решения, опираясь на объективные данные, а не на интуицию и личный опыт. Цифры не врут, поэтому компании вроде Uber, Google, Tesla, Walmart, Netflix, eBay используют data-driven подход. Он позволяет составлять стратегии бизнеса и рекламных кампаний, выстраивать современную систему отчетности и не только.\\n'\\\n",
    "'Чтобы быть востребованным специалистом. Все больше компаний для эффективной работы нанимают аналитиков и готовы хорошо им платить. По запросу «аналитик данных» на hh.ru есть более 8,5 тысячи вакансий: новичок может рассчитывать на зарплату от 65 тысяч, опытный специалист — от 125 до 250 тысяч рублей.\\n'\\\n",
    "'Чтобы делать бизнес эффективнее. https://docs.google.com/spreadsheets/d/1p5zf4SpuyRl-enm_KGPf1qEPjYjnssfr924sZXBZq9h91mCLOU/edit#gid=2045843171 Согласно опросам, 65% компаний не в состоянии проанализировать имеющиеся данные, при этом 89% из них уверены, что если бы они могли это сделать, то получили бы конкурентное преимущество.\\n'\\\n",
    "'Чтобы решать интересные задачи. Может показаться, что аналитик данных не самая творческая профессия: ему каждый день приходится заниматься рутинным сбором и анализом. При этом работа может дать удивительные результаты — высветить проблемы, предсказать будущее, сделать явным то, что никто иначе бы не узнал.\\n'"
   ]
  },
  {
   "cell_type": "code",
   "execution_count": 5,
   "metadata": {},
   "outputs": [
    {
     "name": "stdout",
     "output_type": "stream",
     "text": [
      "https://meduza.io/paragraph/2020/10/26/skolko-oni-zarabatyvayut-i-chto-za-dannye-analiziruyut\n",
      "Сколько они зарабатывают и что за данные анализируют? Кратко объясняем, зачем учиться на аналитика данных.\n",
      "10:38, 26 октября 2020\n",
      "Чтобы научиться собирать, обрабатывать и интерпретировать информацию. Эти навыки пригодятся в любой сфере — неважно, работаете ли вы в сервисе для заказа еды или крупном банке. Для этого нужно освоить базовый набор аналитика: SQL, математическую статистику, основы Python.\n",
      "Чтобы принимать решения, опираясь на объективные данные, а не на интуицию и личный опыт. Цифры не врут, поэтому компании вроде Uber, Google, Tesla, Walmart, Netflix, eBay используют data-driven подход. Он позволяет составлять стратегии бизнеса и рекламных кампаний, выстраивать современную систему отчетности и не только.\n",
      "Чтобы быть востребованным специалистом. Все больше компаний для эффективной работы нанимают аналитиков и готовы хорошо им платить. По запросу «аналитик данных» на hh.ru есть более 8,5 тысячи вакансий: новичок может рассчитывать на зарплату от 65 тысяч, опытный специалист — от 125 до 250 тысяч рублей.\n",
      "Чтобы делать бизнес эффективнее. https://docs.google.com/spreadsheets/d/1p5zf4SpuyRl-enm_KGPf1qEPjYjnssfr924sZXBZq9h91mCLOU/edit#gid=2045843171 Согласно опросам, 65% компаний не в состоянии проанализировать имеющиеся данные, при этом 89% из них уверены, что если бы они могли это сделать, то получили бы конкурентное преимущество.\n",
      "Чтобы решать интересные задачи. Может показаться, что аналитик данных не самая творческая профессия: ему каждый день приходится заниматься рутинным сбором и анализом. При этом работа может дать удивительные результаты — высветить проблемы, предсказать будущее, сделать явным то, что никто иначе бы не узнал.\n",
      "\n"
     ]
    }
   ],
   "source": [
    "print(text)"
   ]
  },
  {
   "cell_type": "code",
   "execution_count": 6,
   "metadata": {},
   "outputs": [
    {
     "name": "stdout",
     "output_type": "stream",
     "text": [
      "['и', 'не', 'на', 'чтобы', 'что', 'данные', 'в', 'для', 'может', 'бы', 'они', 'аналитика', 'данных', 'компаний', 'от', 'тысяч', 'при', 'этом', 'сделать', 'то', 'сколько', 'зарабатывают', 'за', 'анализируют', 'кратко', 'объясняем', 'зачем', 'учиться', 'октября', 'научиться', 'собирать', 'обрабатывать', 'интерпретировать', 'информацию', 'эти', 'навыки', 'пригодятся', 'любой', 'сфере', 'неважно', 'работаете', 'ли', 'вы', 'сервисе', 'заказа', 'еды', 'или', 'крупном', 'банке', 'этого']\n",
      "[[0 0 0 0 0 0 0 0 0 0 0 0 0 0 0 0 0 0 0 0 0 0 0 0 0 0 0 0 0 0 0 0 0 0 0 0\n",
      "  0 0 0 0 0 0 0 0 0 0 0 0 0 0]\n",
      " [1 0 1 0 1 1 0 0 0 0 1 1 1 0 0 0 0 0 0 0 1 1 1 1 1 1 1 1 0 0 0 0 0 0 0 0\n",
      "  0 0 0 0 0 0 0 0 0 0 0 0 0 0]\n",
      " [0 0 0 0 0 0 0 0 0 0 0 0 0 0 0 0 0 0 0 0 0 0 0 0 0 0 0 0 1 0 0 0 0 0 0 0\n",
      "  0 0 0 0 0 0 0 0 0 0 0 0 0 0]\n",
      " [1 0 0 1 0 0 2 2 0 0 0 1 0 0 0 0 0 0 0 0 0 0 0 0 0 0 0 0 0 1 1 1 1 1 1 1\n",
      "  1 1 1 1 1 1 1 1 1 1 1 1 1 1]\n",
      " [3 3 2 1 0 1 0 0 0 0 0 0 0 0 0 0 0 0 0 0 0 0 0 0 0 0 0 0 0 0 0 0 0 0 0 0\n",
      "  0 0 0 0 0 0 0 0 0 0 0 0 0 0]\n",
      " [1 0 2 1 0 0 0 1 1 0 0 0 0 1 2 2 0 0 0 0 0 0 0 0 0 0 0 0 0 0 0 0 0 0 0 0\n",
      "  0 0 0 0 0 0 0 0 0 0 0 0 0 0]\n",
      " [0 1 0 1 1 1 1 0 0 2 1 0 0 1 0 0 1 1 1 1 0 0 0 0 0 0 0 0 0 0 0 0 0 0 0 0\n",
      "  0 0 0 0 0 0 0 0 0 0 0 0 0 0]\n",
      " [1 2 0 1 2 0 0 0 2 1 0 0 1 0 0 0 1 1 1 1 0 0 0 0 0 0 0 0 0 0 0 0 0 0 0 0\n",
      "  0 0 0 0 0 0 0 0 0 0 0 0 0 0]]\n"
     ]
    }
   ],
   "source": [
    "tokenizer = Tokenizer(' ', punctuation = string.punctuation+'—')\n",
    "\n",
    "vectorizer = CountVectorizer(tokenizer = tokenizer, max_features = 50)\n",
    "count_matrix = vectorizer.fit_transform(text.strip().split('\\n'), ordering = 'counts', as_array = True)\n",
    "print(vectorizer.get_feature_names())\n",
    "print(count_matrix)"
   ]
  },
  {
   "cell_type": "code",
   "execution_count": null,
   "metadata": {},
   "outputs": [],
   "source": []
  },
  {
   "cell_type": "code",
   "execution_count": null,
   "metadata": {},
   "outputs": [],
   "source": []
  }
 ],
 "metadata": {
  "kernelspec": {
   "display_name": "Python 3",
   "language": "python",
   "name": "python3"
  },
  "language_info": {
   "codemirror_mode": {
    "name": "ipython",
    "version": 3
   },
   "file_extension": ".py",
   "mimetype": "text/x-python",
   "name": "python",
   "nbconvert_exporter": "python",
   "pygments_lexer": "ipython3",
   "version": "3.7.6"
  }
 },
 "nbformat": 4,
 "nbformat_minor": 4
}
